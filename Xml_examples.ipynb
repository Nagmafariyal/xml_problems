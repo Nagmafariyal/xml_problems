{
  "nbformat": 4,
  "nbformat_minor": 0,
  "metadata": {
    "colab": {
      "provenance": [],
      "authorship_tag": "ABX9TyNOttOtaDfKym3/daKn0Urk",
      "include_colab_link": true
    },
    "kernelspec": {
      "name": "python3",
      "display_name": "Python 3"
    },
    "language_info": {
      "name": "python"
    }
  },
  "cells": [
    {
      "cell_type": "markdown",
      "metadata": {
        "id": "view-in-github",
        "colab_type": "text"
      },
      "source": [
        "<a href=\"https://colab.research.google.com/github/Nagmafariyal/xml_problems/blob/main/Xml_examples.ipynb\" target=\"_parent\"><img src=\"https://colab.research.google.com/assets/colab-badge.svg\" alt=\"Open In Colab\"/></a>"
      ]
    },
    {
      "cell_type": "code",
      "source": [
        "# XML 1 - Find the Score\n",
        "# Sample Input\n",
        "\n",
        "# <feed xml:lang='en'>\n",
        "#     <title>HackerRank</title>\n",
        "#     <subtitle lang='en'>Programming challenges</subtitle>\n",
        "#     <link rel='alternate' type='text/html' href='http://hackerrank.com/'/>\n",
        "#     <updated>2013-12-25T12:00:00</updated>\n",
        "# </feed>\n",
        "# Sample Output\n",
        "\n",
        "# 5\n",
        "\n",
        "import sys\n",
        "import xml.etree.ElementTree as etree\n",
        "\n",
        "def get_attr_number(node):\n",
        "    count = len(node.attrib)\n",
        "    for child in node:\n",
        "        count += get_attr_number(child)\n",
        "    return count\n",
        "\n",
        "if __name__ == '__main__':\n",
        "    sys.stdin.readline()\n",
        "    xml = sys.stdin.read()\n",
        "    tree = etree.ElementTree(etree.fromstring(xml))\n",
        "    root = tree.getroot()\n",
        "    print(get_attr_number(root))\n"
      ],
      "metadata": {
        "id": "ADR2hsJKn3Ct"
      },
      "execution_count": null,
      "outputs": []
    },
    {
      "cell_type": "code",
      "source": [
        "# XML2 - Find the Maximum Depth\n",
        "import xml.etree.ElementTree as etree\n",
        "\n",
        "maxdepth = 0\n",
        "def depth(elem, level):\n",
        "    global maxdepth\n",
        "    # Update the maximum depth seen so far\n",
        "    if level + 1 > maxdepth:\n",
        "        maxdepth = level + 1\n",
        "    # Recursively process the child elements\n",
        "    for child in elem:\n",
        "        depth(child, level + 1)\n",
        "\n",
        "\n",
        "if __name__ == '__main__':\n",
        "    n = int(input())\n",
        "    xml = \"\"\n",
        "    for i in range(n):\n",
        "        xml =  xml + input() + \"\\n\"\n",
        "    tree = etree.ElementTree(etree.fromstring(xml))\n",
        "    depth(tree.getroot(), -1)\n",
        "    print(maxdepth)\n"
      ],
      "metadata": {
        "id": "zt3sajEmn4U2"
      },
      "execution_count": null,
      "outputs": []
    }
  ]
}